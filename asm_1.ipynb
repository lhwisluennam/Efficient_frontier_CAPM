{
 "cells": [
  {
   "cell_type": "code",
   "execution_count": 9,
   "metadata": {},
   "outputs": [],
   "source": [
    "import pandas as pd\n",
    "import matplotlib.pyplot as plt\n",
    "import numpy as np"
   ]
  },
  {
   "cell_type": "code",
   "execution_count": 4,
   "metadata": {},
   "outputs": [],
   "source": [
    "jpm=pd.read_csv(\"JPM.csv\", index_col=0 ,parse_dates=['Date'])\n",
    "dis=pd.read_csv(\"DIS.csv\", index_col=0 ,parse_dates=['Date'])\n",
    "wmt=pd.read_csv(\"WMT.csv\", index_col=0 ,parse_dates=['Date'])\n"
   ]
  },
  {
   "cell_type": "code",
   "execution_count": 5,
   "metadata": {},
   "outputs": [],
   "source": [
    "jpm[\"simple_return\"]=(jpm[\"Adj Close\"]-jpm[\"Adj Close\"].shift(1))/jpm[\"Adj Close\"].shift(1)\n",
    "dis[\"simple_return\"]=(dis[\"Adj Close\"]-dis[\"Adj Close\"].shift(1))/dis[\"Adj Close\"].shift(1)\n",
    "wmt[\"simple_return\"]=(wmt[\"Adj Close\"]-wmt[\"Adj Close\"].shift(1))/wmt[\"Adj Close\"].shift(1)"
   ]
  },
  {
   "cell_type": "code",
   "execution_count": 53,
   "metadata": {},
   "outputs": [
    {
     "data": {
      "text/html": [
       "<div>\n",
       "<style scoped>\n",
       "    .dataframe tbody tr th:only-of-type {\n",
       "        vertical-align: middle;\n",
       "    }\n",
       "\n",
       "    .dataframe tbody tr th {\n",
       "        vertical-align: top;\n",
       "    }\n",
       "\n",
       "    .dataframe thead th {\n",
       "        text-align: right;\n",
       "    }\n",
       "</style>\n",
       "<table border=\"1\" class=\"dataframe\">\n",
       "  <thead>\n",
       "    <tr style=\"text-align: right;\">\n",
       "      <th></th>\n",
       "      <th>jpm</th>\n",
       "      <th>dis</th>\n",
       "      <th>wmt</th>\n",
       "    </tr>\n",
       "    <tr>\n",
       "      <th>Date</th>\n",
       "      <th></th>\n",
       "      <th></th>\n",
       "      <th></th>\n",
       "    </tr>\n",
       "  </thead>\n",
       "  <tbody>\n",
       "    <tr>\n",
       "      <th>2021-01-05</th>\n",
       "      <td>0.005441</td>\n",
       "      <td>0.004277</td>\n",
       "      <td>-0.005323</td>\n",
       "    </tr>\n",
       "    <tr>\n",
       "      <th>2021-01-06</th>\n",
       "      <td>0.046956</td>\n",
       "      <td>0.003811</td>\n",
       "      <td>0.006244</td>\n",
       "    </tr>\n",
       "    <tr>\n",
       "      <th>2021-01-07</th>\n",
       "      <td>0.032839</td>\n",
       "      <td>-0.003015</td>\n",
       "      <td>-0.000068</td>\n",
       "    </tr>\n",
       "    <tr>\n",
       "      <th>2021-01-08</th>\n",
       "      <td>0.001104</td>\n",
       "      <td>0.000616</td>\n",
       "      <td>-0.000136</td>\n",
       "    </tr>\n",
       "    <tr>\n",
       "      <th>2021-01-11</th>\n",
       "      <td>0.014924</td>\n",
       "      <td>0.002238</td>\n",
       "      <td>0.004501</td>\n",
       "    </tr>\n",
       "    <tr>\n",
       "      <th>...</th>\n",
       "      <td>...</td>\n",
       "      <td>...</td>\n",
       "      <td>...</td>\n",
       "    </tr>\n",
       "    <tr>\n",
       "      <th>2021-12-27</th>\n",
       "      <td>0.005723</td>\n",
       "      <td>-0.005403</td>\n",
       "      <td>0.009105</td>\n",
       "    </tr>\n",
       "    <tr>\n",
       "      <th>2021-12-28</th>\n",
       "      <td>0.003035</td>\n",
       "      <td>0.015707</td>\n",
       "      <td>0.014351</td>\n",
       "    </tr>\n",
       "    <tr>\n",
       "      <th>2021-12-29</th>\n",
       "      <td>-0.000504</td>\n",
       "      <td>-0.002126</td>\n",
       "      <td>-0.000490</td>\n",
       "    </tr>\n",
       "    <tr>\n",
       "      <th>2021-12-30</th>\n",
       "      <td>-0.000505</td>\n",
       "      <td>0.006844</td>\n",
       "      <td>0.003223</td>\n",
       "    </tr>\n",
       "    <tr>\n",
       "      <th>2021-12-31</th>\n",
       "      <td>-0.000820</td>\n",
       "      <td>-0.006670</td>\n",
       "      <td>0.010617</td>\n",
       "    </tr>\n",
       "  </tbody>\n",
       "</table>\n",
       "<p>251 rows × 3 columns</p>\n",
       "</div>"
      ],
      "text/plain": [
       "                 jpm       dis       wmt\n",
       "Date                                    \n",
       "2021-01-05  0.005441  0.004277 -0.005323\n",
       "2021-01-06  0.046956  0.003811  0.006244\n",
       "2021-01-07  0.032839 -0.003015 -0.000068\n",
       "2021-01-08  0.001104  0.000616 -0.000136\n",
       "2021-01-11  0.014924  0.002238  0.004501\n",
       "...              ...       ...       ...\n",
       "2021-12-27  0.005723 -0.005403  0.009105\n",
       "2021-12-28  0.003035  0.015707  0.014351\n",
       "2021-12-29 -0.000504 -0.002126 -0.000490\n",
       "2021-12-30 -0.000505  0.006844  0.003223\n",
       "2021-12-31 -0.000820 -0.006670  0.010617\n",
       "\n",
       "[251 rows x 3 columns]"
      ]
     },
     "execution_count": 53,
     "metadata": {},
     "output_type": "execute_result"
    }
   ],
   "source": [
    "returns=pd.DataFrame()\n",
    "returns[\"jpm\"]=jpm[\"simple_return\"]\n",
    "returns[\"dis\"]=dis[\"simple_return\"]\n",
    "returns[\"wmt\"]=wmt[\"simple_return\"]\n",
    "returns=returns.dropna()\n",
    "weights=np.array([1/3,1/3,1/3])\n",
    "returns"
   ]
  },
  {
   "cell_type": "code",
   "execution_count": 56,
   "metadata": {},
   "outputs": [
    {
     "data": {
      "text/plain": [
       "0.0002489014852097564"
      ]
     },
     "execution_count": 56,
     "metadata": {},
     "output_type": "execute_result"
    }
   ],
   "source": [
    "returns[\"portfolio\"]=returns[[\"jpm\",\"dis\",\"wmt\"]].dot(weights.T)\n",
    "portfolio_mean=returns[\"portfolio\"].mean()\n",
    "portfolio_mean"
   ]
  },
  {
   "cell_type": "code",
   "execution_count": 108,
   "metadata": {},
   "outputs": [
    {
     "data": {
      "text/plain": [
       "8.976154546621592e-05"
      ]
     },
     "execution_count": 108,
     "metadata": {},
     "output_type": "execute_result"
    }
   ],
   "source": [
    "cov=returns[[\"jpm\",\"dis\",\"wmt\"]].cov()\n",
    "portfolio_var=weights.dot(cov.dot(weights.T))\n",
    "portfolio_var"
   ]
  },
  {
   "cell_type": "code",
   "execution_count": 150,
   "metadata": {},
   "outputs": [],
   "source": [
    "def weights_gen():\n",
    "    w1=np.random.uniform(low=-1,high=1)\n",
    "    w2=np.random.uniform(low=-1,high=1)\n",
    "    w3=np.random.uniform(low=-1,high=1)\n",
    "    weights_rand=np.array([w1,w2,w3])\n",
    "    weights_rand/=weights_rand.sum()\n",
    "    if(weights_rand[0]>1 or weights_rand[0]<-1 or weights_rand[1]<-1 or weights_rand[1]>1 or weights_rand[2]<-1 or weights_rand[2]>1):\n",
    "        weights_rand=weights_gen()\n",
    "    return weights_rand\n",
    "def port_mean_cal(wa,wb,wc):\n",
    "    port_mean=wa*returns['jpm'].mean()+wb*returns['dis'].mean()+wc*returns['wmt'].mean()\n",
    "    return port_mean\n",
    "def port_std_cal(wa,wb,wc):\n",
    "    wght=np.array([wa,wb,wc])\n",
    "    port_var=wght.dot(cov.dot(wght.T))\n",
    "    port_vol=port_var**0.5\n",
    "    return port_vol\n"
   ]
  },
  {
   "cell_type": "code",
   "execution_count": 151,
   "metadata": {},
   "outputs": [],
   "source": [
    "w1=[]\n",
    "w2=[]\n",
    "w3=[]\n",
    "port2_returns=[]\n",
    "port2_std=[]\n",
    "for i in range(2000):\n",
    "    w=weights_gen()\n",
    "    w1.append(w[0])\n",
    "    w2.append(w[1])\n",
    "    w3.append(w[2])\n",
    "    port2_returns.append(port_mean_cal(w[0],w[1],w[2]))\n",
    "    port2_std.append(port_std_cal(w[0],w[1],w[2]))\n",
    "pf2_dict={\"w1\":w1,\"w2\":w2,\"w3\":w3,\"return\":port2_returns,\"var\":port2_std}\n",
    "portfolio2=pd.DataFrame(pf2_dict)\n"
   ]
  },
  {
   "cell_type": "code",
   "execution_count": 153,
   "metadata": {},
   "outputs": [
    {
     "data": {
      "text/plain": [
       "Text(0, 0.5, 'Portfolio Returns')"
      ]
     },
     "execution_count": 153,
     "metadata": {},
     "output_type": "execute_result"
    },
    {
     "data": {
      "image/png": "[encoded data removed]",
      "text/plain": [
       "<Figure size 432x288 with 1 Axes>"
      ]
     },
     "metadata": {
      "needs_background": "light"
     },
     "output_type": "display_data"
    }
   ],
   "source": [
    "plt.scatter(port2_std,port2_returns)\n",
    "plt.title(\"Efficient Frontier\")\n",
    "plt.xlabel(\"Portfolio Volatility\")\n",
    "plt.ylabel(\"Portfolio Returns\")"
   ]
  },
  {
   "cell_type": "code",
   "execution_count": null,
   "metadata": {},
   "outputs": [],
   "source": []
  }
 ],
 "metadata": {
  "interpreter": {
   "hash": "7a59b8c6a124f3a34fa3efe40faeb9906ecf0b4365c37cf3596aa4bfb1c1178f"
  },
  "kernelspec": {
   "display_name": "Python 3.8.8 ('base')",
   "language": "python",
   "name": "python3"
  },
  "language_info": {
   "codemirror_mode": {
    "name": "ipython",
    "version": 3
   },
   "file_extension": ".py",
   "mimetype": "text/x-python",
   "name": "python",
   "nbconvert_exporter": "python",
   "pygments_lexer": "ipython3",
   "version": "3.8.8"
  },
  "orig_nbformat": 4
 },
 "nbformat": 4,
 "nbformat_minor": 2
}
